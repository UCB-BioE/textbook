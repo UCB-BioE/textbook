{
 "cells": [
  {
   "cell_type": "markdown",
   "id": "ddef76a4-fd02-4ce5-8eaa-5c068c572fdf",
   "metadata": {},
   "source": [
    "# Compartmental model of morphine metabolism\n",
    "\n",
    "Credit: Terry Johnson\n",
    "\n",
    "A 61 kg patient needs enough morphine to relieve their post-surgical pain during sleep (8 hours). How much morphine should be given to the patient before bed so that the concentration of morphine in their system doesn't drop below the pain-relieving concentration $8.2 \\times 10^{-3} \\mathrm{mg} / \\mathrm{L}$?\n",
    "\n",
    "The volume of distribution for morphine $V_{d, \\text { morphine }}$ is approximately 1.0 $\\mathrm{kg} / \\mathrm{L}$, or 61 L (for this 61 kg patient).\n",
    "\n",
    "This patient's clearance rate for morphine $k=0.351 / \\mathrm{hr}$. Below is the one-compartment model describing this system.\n",
    "\n"
   ]
  },
  {
   "cell_type": "markdown",
   "id": "1b5848b2-02b9-4a27-8f11-bbd6277d2f42",
   "metadata": {},
   "source": [
    "## Central compartment\n",
    "\n",
    "$V_{d}=61 \\mathrm{~L}$ Initial dose $\\mathrm{C}_{0}=$ ?\n",
    "\n",
    "The rate of change of morphine concentration in the central compartment would be:\n",
    "$$\n",
    "\\begin{aligned}\n",
    "\\frac{d c}{d t} & =-k c \\\\\n",
    "\\frac{d c}{c} & =-k d t\n",
    "\\end{aligned}\n",
    "$$\n",
    "\n",
    "Integrate both sides to get:\n",
    "\n",
    "$$\n",
    "\\begin{aligned}\n",
    "\\int \\frac{d c}{c} & =-k \\int d t \\\\\n",
    "\\ln c & =-k t+A\n",
    "\\end{aligned}\n",
    "$$\n",
    "\n",
    "where A is an integration constant. This is equivalent to:\n",
    "\n",
    "$$\n",
    "\\ln c=-k t+\\ln A\n",
    "$$\n",
    "\n",
    "Why can we switch out A for $\\ln A$? Why did we do that?\n",
    "\n",
    "$$\n",
    "\\begin{gathered}\n",
    "\\ln c-\\ln A=-k t \\\\\n",
    "\\ln \\frac{c}{A}=-k t \\\\\n",
    "c(t)=A e^{-k t}\n",
    "\\end{gathered}\n",
    "$$\n"
   ]
  },
  {
   "cell_type": "markdown",
   "id": "8aa3fd47-b3f9-4c65-b1e0-b9886d9df1f4",
   "metadata": {},
   "source": [
    "## Required Initial Dose\n",
    "<div class=\"alert alert-info\"> \n",
    "QUESTION: How do we calculate the required initial dose of morphine?\n",
    "</div>\n",
    "\n",
    "We know two things: \n",
    "- At $t=0, c(t)$ must be $c_{0}$ (the initial concentration)\n",
    "- At $t=8$ hours, the concentration can be no less than $8.2 \\circ 10^{-3} \\mathrm{mg} / \\mathrm{L}$.\n",
    "\n",
    "We use the first to solve for A .\n",
    "$$\n",
    "c_{0}=A e^{0}\n",
    "$$\n",
    "\n",
    "Which gives us $\\mathrm{A}=c_{0}$ and,\n",
    "$$\n",
    "c(t)=c_{0} e^{-k t}\n",
    "$$\n",
    "\n",
    "Now, we solve for a $C_{0}$ that will give us exactly the effective pain-relieving concentration after 8 hours. At this initial dose, the concentration of morphine will just start to become ineffective as the patient wakes up.\n",
    "\n",
    "$$\n",
    "8.2 \\circ 10^{-3} \\mathrm{mg} / \\mathrm{L}=c_{0} e^{-(0.35 / h r)(8.0 h r)}\n",
    "$$\n",
    "\n",
    "Solving for $c_{0}$ gives us a concentration of $0.134846 \\ldots \\mathrm{mg} / \\mathrm{L}$ (accounting for sig figs in the last step). \n",
    "\n",
    "To achieve this concentration in the body, one must inject $(0.134846 \\ldots \\mathrm{mg} / \\mathrm{L})(61 \\mathrm{~L})$, or 8.2 mg. In reality, since we've made several simplifying assumptions in our compartmental model, I would interpret this as \"somewhere around 8 mg.\""
   ]
  },
  {
   "cell_type": "markdown",
   "id": "bea0f056-21f5-4052-bcdc-2675f2c1736f",
   "metadata": {},
   "source": [
    "\n",
    "QUESTION: Before giving a patient this dose, what else should we consider?\n",
    "\n",
    "The typical dose for morphine is $10-30 \\mathrm{mg}$. Overdose occurs between 60 mg (hypersensitive) and 200 mg (typical), though it can be much higher for those who have been using morphine regularly.\n",
    "\n",
    "QUESTION: An 80 kg patient comes in with the same problem - you're asked to calculate a minimum effective dose. What do you need to do differently?\n",
    "\n",
    "For an 80 kg patient, the volume of distribution for morphine $V_{d, \\text { morphine }}$ will be 80 L .\n",
    "\n",
    "If the clearance rate is proportional to the surface area of the patient, then,\n",
    "$$\n",
    "\\frac{k_{80 \\mathrm{~kg}}}{k_{61 \\mathrm{~kg}}}=\\frac{1.73\\left(\\frac{80 \\mathrm{~kg}}{70}\\right)^{0.73}}{1.73\\left(\\frac{61 \\mathrm{~kg}}{70}\\right)^{0.73}}=\\left(\\frac{80}{61}\\right)^{0.73}=1.2\n",
    "$$\n",
    "\n",
    "The clearance rate for the 80 kg patient will be $\\mathrm{k}=0.421 / \\mathrm{hr}$.\n"
   ]
  },
  {
   "cell_type": "code",
   "execution_count": null,
   "id": "8a7f62a8-02e5-45a4-99d9-54e3c42b64bf",
   "metadata": {},
   "outputs": [],
   "source": []
  }
 ],
 "metadata": {
  "kernelspec": {
   "display_name": "Python 3 (ipykernel)",
   "language": "python",
   "name": "python3"
  },
  "language_info": {
   "codemirror_mode": {
    "name": "ipython",
    "version": 3
   },
   "file_extension": ".py",
   "mimetype": "text/x-python",
   "name": "python",
   "nbconvert_exporter": "python",
   "pygments_lexer": "ipython3",
   "version": "3.9.19"
  }
 },
 "nbformat": 4,
 "nbformat_minor": 5
}