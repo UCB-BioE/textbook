{
 "cells": [
  {
   "cell_type": "markdown",
   "id": "ddef76a4-fd02-4ce5-8eaa-5c068c572fdf",
   "metadata": {},
   "source": [
    "# Morphine metabolism\n",
    "- A 61 kg patient needs enough morphine to relieve their post-surgical pain during sleep (8 hours). \n",
    "- The volume of distribution for morphine $V_{d, \\text { morphine }}$ is approximately 1.0 $\\mathrm{kg} / \\mathrm{L}$, or 61 L (for this 61 kg patient).\n",
    "- This patient's clearance rate for morphine $k=0.351 / \\mathrm{hr}$. Below is the one-compartment model describing this system."
   ]
  },
  {
   "cell_type": "markdown",
   "id": "1b5848b2-02b9-4a27-8f11-bbd6277d2f42",
   "metadata": {},
   "source": [
    "## Rate Equation\n",
    "\n",
    "How much morphine should be given to the patient before bed so that the concentration of morphine in their system doesn't drop below the pain-relieving concentration $8.2 \\times 10^{-3} \\frac{mg}{L}$? In other words, find $\\mathrm{C}_{0}$?\n",
    "\n",
    "In a single compartment model rate of change of morphine in the central compartment is:\n",
    "\n",
    "$$\n",
    "\\begin{aligned}\n",
    "\\frac{d c}{d t} & =-k c \\\\\n",
    "\\frac{d c}{c} & =-k d t\n",
    "\\end{aligned}\n",
    "$$\n",
    "\n",
    "Integrate both sides to get:\n",
    "\n",
    "$$\n",
    "\\begin{aligned}\n",
    "\\int \\frac{d c}{c} & =-k \\int d t \\\\\n",
    "\\ln c & =-k t+A*\n",
    "\\end{aligned}\n",
    "$$"
   ]
  },
  {
   "cell_type": "markdown",
   "id": "2589ac67-b52c-4520-b67a-d5af4467bf8a",
   "metadata": {},
   "source": [
    "We can switch out A* for $\\ln A$, making solving easier. Both are constants. \n",
    "\n",
    "$$\n",
    "\\ln c=-k t+\\ln A\n",
    "$$\n",
    "\n",
    "$$\n",
    "\\begin{gathered}\n",
    "\\ln c-\\ln A=-k t \\\\\n",
    "\\ln \\frac{c}{A}=-k t \\\\\n",
    "c(t)=A e^{-k t}\n",
    "\\end{gathered}\n",
    "$$\n"
   ]
  },
  {
   "cell_type": "markdown",
   "id": "5b648bbe-7da5-4570-a12f-ec6b19047708",
   "metadata": {},
   "source": [
    "## What is the correct initial dose of morphine?\n",
    "\n",
    "We know two things: \n",
    "\n",
    "- at time $t=0, c(t)$ must be $c_{0}$ (the initial concentration)\n",
    "- at $t=8$ hours, the concentration can be no less than $8.2 \\circ 10^{-3} \\mathrm{mg} / \\mathrm{L}$.\n",
    "\n",
    "We use the first to solve for A.\n",
    "\n",
    "$$\n",
    "c_{0}=A e^{0}\n",
    "$$\n",
    "\n",
    "Which gives us $\\mathrm{A}=c_{0}$ and\n",
    "\n",
    "$$\n",
    "c(t)=c_{0} e^{-k t}\n",
    "$$\n",
    "\n",
    "Now, we solve for a $C_{0}$ that will give us exactly the effective pain-relieving concentration after 8 hours. At this initial dose, the concentration of morphine will just start to become ineffective as the patient wakes up.\n",
    "\n",
    "$$\n",
    "8.2 \\times 10^{-3} \\mathrm{mg} / \\mathrm{L}=c_{0} e^{-(0.35 / h r)(8.0 h r)}\n",
    "$$\n",
    "\n",
    "Solving for $c_{0}$ gives us a concentration of $0.134846 \\ldots \\mathrm{mg} / \\mathrm{L}$ (accounting\n",
    "for sig figs in the last step). "
   ]
  },
  {
   "cell_type": "markdown",
   "id": "3decf0d7-7261-40af-8fdd-3fe9403c6978",
   "metadata": {},
   "source": [
    "## How much should the doctor inject to achieve this initial dose? \n",
    "To achieve this concentration in the body, the doctor needs to inject a specific amount? How much should she inject? \n",
    "\n",
    "To estimate this, we should remember that the volume of distribution for morphine is approximately 1.0 kg/L. This volume distribution is a very simple estimation of the volume that the morphine will occupy per mass of the patient. \n",
    "\n",
    "For a $V_d$ of 1 L/kg, a 61kg person, the morphine is distributed in 61L. Therefore, one must inject:\n",
    "\n",
    "$$\n",
    "0.134846 mg/L \\times 61 L =  8.2 mg\n",
    "$$\n",
    "\n",
    "Since we've made a number of simplifying assumptions in our compartmental model, we interpret this as \"somewhere around 8 mg.\""
   ]
  },
  {
   "cell_type": "markdown",
   "id": "4501bc9a-4fe1-43f4-8e1f-8526d9f0a4bf",
   "metadata": {},
   "source": [
    "## Rate constant varies\n",
    "An 80 kg patient has the same problem - you're asked to calculate a minimum effective dose. What do you need to do differently?\n",
    "\n",
    "For an 80 kg patient, the volume of distribution for morphine $V_{d, \\text { morphine }}$ will be 80 L. We often assume that the clearance rate is proportional to the patient's surface area. \n",
    "\n",
    "We can estimate the SA from the body weight\n",
    "\n",
    "$$\n",
    "\\text{Surface area} = 1.73\\left(\\frac{\\text{Body weight in kg}}{70}\\right)^{0.73}\n",
    "$$\n",
    "\n",
    "If the clearance rate is proportional to the surface area of the patient, then we can estimate k for a different person: \n",
    "\n",
    "$$\n",
    "\\frac{k_{80 \\mathrm{~kg}}}{k_{61 \\mathrm{~kg}}}=\\frac{1.73\\left(\\frac{80 \\mathrm{~kg}}{70}\\right)^{0.73}}{1.73\\left(\\frac{61 \\mathrm{~kg}}{70}\\right)^{0.73}}=\\left(\\frac{80}{61}\\right)^{0.73}=1.2\n",
    "$$\n"
   ]
  },
  {
   "cell_type": "code",
   "execution_count": null,
   "id": "6a5448f6-1117-4b94-b63d-6b60074ab817",
   "metadata": {},
   "outputs": [],
   "source": []
  }
 ],
 "metadata": {
  "kernelspec": {
   "display_name": "Python 3 (ipykernel)",
   "language": "python",
   "name": "python3"
  },
  "language_info": {
   "codemirror_mode": {
    "name": "ipython",
    "version": 3
   },
   "file_extension": ".py",
   "mimetype": "text/x-python",
   "name": "python",
   "nbconvert_exporter": "python",
   "pygments_lexer": "ipython3",
   "version": "3.9.19"
  }
 },
 "nbformat": 4,
 "nbformat_minor": 5
}
