{
 "cells": [
  {
   "cell_type": "markdown",
   "id": "2479a2e3-82f3-4d84-a4f5-57f38ba88f74",
   "metadata": {},
   "source": [
    "# Hypothesis testing "
   ]
  },
  {
   "cell_type": "markdown",
   "id": "7e063678-482d-48f6-af9b-897d24ec9bb0",
   "metadata": {},
   "source": [
    "## One vs Two Sided \n",
    "A one-sided (or one-tailed) test and a two-sided (or two-tailed) test are two types of hypothesis tests.  The key difference between the two lies in the nature of the alternative hypothesis and the area of interest in the distribution.\n",
    "\n",
    "### One-Sided (One-Tailed) Test\n",
    "- A one-sided test is used when we are only interested in deviations in one direction (greater than or less than the hypothesized value).\n",
    "- The alternative hypothesis specifies the direction of the effect.\n",
    "\n",
    "**Null Hypothesis $H_0$**: The parameter is equal to a specific value.\n",
    " - $ H_0: \\mu = \\mu_0 $\n",
    "   \n",
    "**Alternative Hypothesis $H_1$**: The parameter is either greater than or less than the specific value, depending on the test direction.\n",
    "- $ H_0: \\mu = \\mu_0 $\n",
    "- $ H_1: \\mu > \\mu_0 $ (Right-tailed test)\n",
    "- $ H_1: \\mu < \\mu_0 $ (Left-tailed test)\n",
    "\n",
    "For example, let's say I develop a new teaching method. I'd like to know if it improves scores. I only care if scores are higher, not lower.\n",
    "- $H_0$: The new method does not improve scores $\\mu \\leq \\mu_0$.\n",
    "- $H_1$: The new method improves scores $\\mu > \\mu_0$."
   ]
  },
  {
   "cell_type": "markdown",
   "id": "afe04673-ec2b-4635-9a5a-9ca620e328eb",
   "metadata": {},
   "source": [
    "### Two-Sided (Two-Tailed) Test\n",
    "A two-sided test is used when we are interested in detecting whether a parameter (e.g., mean, proportion) is significantly different from a hypothesized value in either direction (both greater than or less than the hypothesized value). The alternative hypothesis is concerned with deviations in **both directions** from the null hypothesis.\n",
    "\n",
    "**Null Hypothesis $H_0$**: The parameter is equal to a specific value.\n",
    "  - $ H_0: \\mu = \\mu_0 $\n",
    "    \n",
    "**Alternative Hypothesis $H_1$**: The parameter is not equal to that specific value.\n",
    "  - $ H_1: \\mu \\neq \\mu_0 $\n",
    "\n",
    "For example, I am interested in how diet affects cholesterol levels. I am interested in this regardless of whether they increase or decrease.\n",
    "  - $H_0$: The diet has no effect on cholesterol levels $\\mu = \\mu_0$.\n",
    "  - $H_1$: The diet affects cholesterol levels $\\mu \\neq \\mu_0$.\n",
    "\n"
   ]
  },
  {
   "cell_type": "markdown",
   "id": "4cd67300-6055-4c09-b555-b93a8fba678f",
   "metadata": {},
   "source": [
    "### Choosing Between the Tests\n",
    "\n",
    "| Aspect | One-Sided Test | Two-Sided Test |\n",
    "|--------|----------------|----------------|\n",
    "| **Alternative Hypothesis** | Tests for deviation in one direction $>$ or $<$ | Tests for deviation in both directions $\\neq$ |\n",
    "| **Rejection Region** | Located in one tail (either left or right) | Located in both tails |\n",
    "| **Significance Level $\\alpha$** | Entire $\\alpha$ is in one tail | $\\alpha$ is split between both tails ($\\alpha/2$ in each tail) |\n",
    "| **When to Use** | When you have a directional hypothesis | When you are testing for any difference, regardless of direction |"
   ]
  },
  {
   "cell_type": "markdown",
   "id": "981e7c55-07d6-42db-9176-4c7e002dd368",
   "metadata": {},
   "source": [
    "## Draw a Conclusion\n",
    "There are two ways to reject the null hypothesis: using the critical values, or by calculating the p-value directly. They reach equivalent conclusions. \n",
    "\n",
    "Critical value method\n",
    "- Compare the calculated value (e.g. t or z statistic) to the critical value(s):\n",
    "- If the value falls in the rejection region (beyond the critical value), reject the null hypothesis.\n",
    "- If the value does not fall in the rejection region, fail to reject the null hypothesis.\n",
    "\n",
    "P-value method \n",
    "- Compare the P-Value to the Significance Level $\\alpha$. The significance level $\\alpha$ is a threshold you set before conducting the test.\n",
    "- If $\\text{p-value} \\leq \\alpha$: There is enough evidence to reject the null hypothesis.\n",
    "- If $\\text{p-value} > \\alpha$: There is insufficient evidence to reject the null hypothesis.\n",
    "\n",
    "Statistically Significant: When the p-value is less than or equal to $\\alpha$ the result is considered statistically significant or the value is in the rejection region,  the observed effect is unlikely to have occurred by chance.\n"
   ]
  },
  {
   "cell_type": "code",
   "execution_count": null,
   "id": "5654830d-ce0a-4e84-95b5-5d4db4529730",
   "metadata": {},
   "outputs": [],
   "source": []
  }
 ],
 "metadata": {
  "kernelspec": {
   "display_name": "Python 3 (ipykernel)",
   "language": "python",
   "name": "python3"
  },
  "language_info": {
   "codemirror_mode": {
    "name": "ipython",
    "version": 3
   },
   "file_extension": ".py",
   "mimetype": "text/x-python",
   "name": "python",
   "nbconvert_exporter": "python",
   "pygments_lexer": "ipython3",
   "version": "3.9.19"
  }
 },
 "nbformat": 4,
 "nbformat_minor": 5
}
