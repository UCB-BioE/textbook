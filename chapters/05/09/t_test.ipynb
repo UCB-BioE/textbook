{
 "cells": [
  {
   "cell_type": "markdown",
   "id": "8077628a-3803-4908-846f-b732ab901493",
   "metadata": {},
   "source": [
    "# T Distribution and the t-test\n",
    "As the number of samples decreases, we can no longer assume that the central limit theorem holds, and the variance of the mean becomes a worse estimate of the population mean. To correct for this, the T-distribution is used. It contains broader tails and therefor accounts for the added variability when estimating the population standard deviation from small samples. As $n$ increases, this extra variability decreases, and the T-distribution converges to the Z-distribution.\n",
    "\n",
    "![tz.png](../../../images/tz.png)"
   ]
  },
  {
   "cell_type": "markdown",
   "id": "ca94128c-86a9-45b2-ad71-fd490b9fd20a",
   "metadata": {},
   "source": [
    "- **Z-Distribution (Blue Line)**: Represents the standard normal distribution with a mean of 0 and a standard deviation of 1.\n",
    "- **T-Distributions (Colored Lines)**: The T-distribution is shown for different degrees of freedom $n-1$. \n",
    "  - For small sample sizes, the T-distribution has heavier tails, indicating more variability and a higher likelihood of extreme values.\n",
    "  - As the sample size increases, the T-distribution approaches the Z-distribution, becoming more similar in shape. This reflects that with larger sample sizes, the sample standard deviation $s$ becomes a better estimator of the population standard deviation $\\sigma$."
   ]
  },
  {
   "cell_type": "markdown",
   "id": "c769dd98-9d59-4471-b42c-641e3dfde0d1",
   "metadata": {},
   "source": [
    "## Assumptions\n",
    "1. **Normality**: The population data should be approximately normally distributed, especially important for small samples (n < 30).\n",
    "2. **Random Sampling**: Data must be randomly and independently sampled from the population.\n",
    "3. **Unknown Population Standard Deviation**: The population standard deviation (σ) is unknown and replaced by the sample standard deviation (s).\n",
    "4. **Independence**: Observations must be independent of each other.\n",
    "5. **Continuous Data**: Data should be measured on a continuous scale.\n",
    "6. **Equal Variances (for Two-Sample Tests)**: Assumes equal population variances for two-sample t-tests.\n",
    "7. **Sample Size**: Used for small to moderate sample sizes; as n increases, the t-distribution approaches the normal distribution."
   ]
  },
  {
   "cell_type": "markdown",
   "id": "4db20b4a-95e6-430d-8bbc-5a5f7bddf744",
   "metadata": {},
   "source": [
    "## The T-Statistic  \n",
    "The t-statistic is defined very similarly to the z-statistic:\n",
    "\n",
    "$$\n",
    "T = \\frac{\\bar{X} - \\mu}{S / \\sqrt{n}}\n",
    "$$\n",
    "\n",
    "Where:\n",
    "-$ \\bar{X}$ is the sample mean.\n",
    "-$ \\mu$ is the population mean.\n",
    "-$ S$ is the sample standard deviation.\n",
    "-$ n$ is the sample size.\n",
    "\n",
    "The sample standard deviation$ S$ is defined as:\n",
    "\n",
    "$$\n",
    "S = \\sqrt{\\frac{1}{n-1} \\sum_{i=1}^{n} (X_i - \\bar{X})^2}\n",
    "$$\n"
   ]
  },
  {
   "cell_type": "markdown",
   "id": "c0d6500a-5e6b-4b39-99b7-b75f4ea18a81",
   "metadata": {},
   "source": [
    "## Hypothesis testing\n",
    "The structure of the hypotheses (H₀ and H₁) in a t-test and z-test is the same. The difference between the tests lies in their use of the standard deviation (whether it’s known or estimated) and the sample size."
   ]
  },
  {
   "cell_type": "markdown",
   "id": "5186f96f-f621-4067-b832-4c354ecd749a",
   "metadata": {},
   "source": [
    "## Rough Proof of the T-Distribution\n",
    "The sample variance$ S^2$ can be expressed in terms of the chi-square distribution:\n",
    "\n",
    "$$\n",
    "S^2 = \\frac{1}{n-1} \\sum_{i=1}^{n} (X_i - \\bar{X})^2\n",
    "$$\n",
    "\n",
    "If$ X_1, X_2, \\ldots, X_n$ are independent and identically distributed normal random variables, then:\n",
    "$$\n",
    "\\frac{(n-1)S^2}{\\sigma^2} \\sim \\chi^2(n-1)\n",
    "$$\n",
    "\n",
    "### 3. **Expressing$ S$ in Terms of Chi-Square Distribution**\n",
    "Rewriting the sample variance in terms of the chi-square distribution:\n",
    "\n",
    "$$\n",
    "(n-1) \\frac{S^2}{\\sigma^2} = \\sum_{i=1}^{n} \\left( \\frac{X_i - \\bar{X}}{\\sigma} \\right)^2 \\sim \\chi^2(n-1)\n",
    "$$\n",
    "\n",
    "Taking the square root:\n",
    "$$\n",
    "\\sqrt{\\frac{(n-1)S^2}{\\sigma^2}} \\sim \\sqrt{\\chi^2(n-1)}\n",
    "$$\n",
    "\n",
    "### 4. **Connecting to the T-Statistic**\n",
    "Substitute$ S$ in the t-statistic:\n",
    "$$\n",
    "T = \\frac{\\bar{X} - \\mu}{S / \\sqrt{n}} = \\frac{\\bar{X} - \\mu}{\\left(\\frac{\\sigma}{\\sqrt{n}}\\right) \\sqrt{\\frac{S^2}{\\sigma^2}}}\n",
    "$$\n",
    "\n",
    "Rewriting it further:\n",
    "$$\n",
    "T = \\frac{\\left(\\frac{\\bar{X} - \\mu}{\\sigma / \\sqrt{n}}\\right)}{\\sqrt{\\frac{(n-1)S^2}{\\sigma^2(n-1)}}}\n",
    "$$\n",
    "\n",
    "### 5. **Introducing the Standard Normal and Chi-Square Distributions**\n",
    "- The numerator$ \\frac{\\bar{X} - \\mu}{\\sigma / \\sqrt{n}}$ is a standard normal variable$ Z$:\n",
    "$$\n",
    "Z = \\frac{\\bar{X} - \\mu}{\\sigma / \\sqrt{n}} \\sim N(0, 1)\n",
    "$$\n",
    "\n",
    "- The denominator$ \\sqrt{\\frac{(n-1)S^2}{\\sigma^2(n-1)}}$ is the square root of a chi-square distribution divided by its degrees of freedom:\n",
    "$$\n",
    "\\sqrt{\\frac{(n-1)S^2}{\\sigma^2}} \\sim \\sqrt{\\chi^2(n-1)}\n",
    "$$\n",
    "\n",
    "### 6. **Final Form of the T-Distribution**\n",
    "Now we have:\n",
    "$$\n",
    "T = \\frac{Z}{\\sqrt{\\chi^2(n-1) / (n-1)}}\n",
    "$$\n",
    "\n",
    "Where:\n",
    "-$ Z$ is a standard normal random variable.\n",
    "-$ \\chi^2(n-1)$ is a chi-square random variable with$ n-1$ degrees of freedom.\n",
    "\n",
    "This derivation shows that the t-distribution can be expressed as the ratio of a standard normal variable to the square root of a chi-square variable divided by its degrees of freedom. This ratio accounts for the additional variability introduced by estimating the population standard deviation from the sample."
   ]
  },
  {
   "cell_type": "code",
   "execution_count": null,
   "id": "98ee6b9f-5ba5-4556-88a4-e652a01fb8f5",
   "metadata": {},
   "outputs": [],
   "source": []
  }
 ],
 "metadata": {
  "kernelspec": {
   "display_name": "Python 3 (ipykernel)",
   "language": "python",
   "name": "python3"
  },
  "language_info": {
   "codemirror_mode": {
    "name": "ipython",
    "version": 3
   },
   "file_extension": ".py",
   "mimetype": "text/x-python",
   "name": "python",
   "nbconvert_exporter": "python",
   "pygments_lexer": "ipython3",
   "version": "3.9.19"
  }
 },
 "nbformat": 4,
 "nbformat_minor": 5
}
