{
 "cells": [
  {
   "cell_type": "markdown",
   "id": "ebf67bdd-575c-41cc-91c1-f396202097e9",
   "metadata": {},
   "source": [
    "### Proof that $Z^2$ becomes the sum of the Observed minus expected, over the observed"
   ]
  },
  {
   "cell_type": "markdown",
   "id": "11a84931-5141-415b-a3a3-30eb280040d7",
   "metadata": {},
   "source": [
    "\n",
    "We begin with the equation:\n",
    "\n",
    "$$\n",
    "\\chi^2 = \\frac{(m - Np)^2}{Npq}\n",
    "$$\n",
    "\n",
    "We are given the following relationships:\n",
    "- $ N = Np + N(1 - p)$\n",
    "- $ N = m + (N - m)$\n",
    "- $ q = 1 - p $\n",
    "\n",
    "Next, let's expand the numerator:\n",
    "\n",
    "$$\n",
    "\\chi^2 = \\frac{(m - Np)^2 + (Np - m)^2}{Npq}\n",
    "$$\n",
    "\n",
    "Now, focusing on the second term in the numerator:\n",
    "\n",
    "$$\n",
    "(Np - m)^2 = (N - m - Nq)^2\n",
    "$$\n",
    "\n",
    "This holds because \\( N = Np + Nq \\), so \\( Np = N - Nq \\). Substituting this back into the equation, we get:\n",
    "\n",
    "$$\n",
    "\\chi^2 = \\frac{(m - Np)^2 + (N - m - Nq)^2}{Npq}\n",
    "$$\n",
    "\n",
    "Next, let's split this into two fractions:\n",
    "\n",
    "$$\n",
    "\\chi^2 = \\frac{(m - Np)^2}{Npq} + \\frac{(N - m - Nq)^2}{Npq}\n",
    "$$\n",
    "\n",
    "For the second fraction, we multiply the numerator and denominator by \\( p/p \\):\n",
    "\n",
    "$$\n",
    "\\chi^2 = \\frac{(m - Np)^2}{Npq} + \\frac{(N - m - Nq)^2 \\cdot p}{Npq \\cdot p}\n",
    "$$\n",
    "\n",
    "Simplifying this yields:\n",
    "\n",
    "$$\n",
    "\\chi^2 = \\frac{(m - Np)^2}{Npq} + \\frac{(N - m - Nq)^2}{Nq}\n",
    "$$\n",
    "\n",
    "This matches the form shown in the image. To generalize this into Pearson’s chi-squared formula:\n",
    "\n",
    "$$\n",
    "\\chi^2 = \\sum \\frac{(O_i - E_i)^2}{E_i}\n",
    "$$\n",
    "\n",
    "We can observe that:\n",
    "- In the first term, \\( (m - Np) \\) represents \\( (O_1 - E_1) \\), where \\( Np \\) represents \\( E_1 \\),\n",
    "- In the second term, \\( (N - m - Nq) \\) represents \\( (O_2 - E_2) \\), where \\( Nq \\) represents \\( E_2 \\).\n",
    "\n",
    "Thus, this equation is a specific case of Pearson’s more general chi-squared formula with two terms (\\( n = 2 \\)).\n",
    "\n",
    "This derivation demonstrates how the specific equation in the image can be obtained from the initial form and how it connects to Pearson's generalized chi-squared formula.\n",
    "\n",
    "---\n",
    "\n",
    "Let me know if any adjustments are needed!"
   ]
  },
  {
   "cell_type": "code",
   "execution_count": null,
   "id": "fe27fa72-4362-4798-af76-723f26c8b817",
   "metadata": {},
   "outputs": [],
   "source": []
  }
 ],
 "metadata": {
  "kernelspec": {
   "display_name": "Python 3 (ipykernel)",
   "language": "python",
   "name": "python3"
  },
  "language_info": {
   "codemirror_mode": {
    "name": "ipython",
    "version": 3
   },
   "file_extension": ".py",
   "mimetype": "text/x-python",
   "name": "python",
   "nbconvert_exporter": "python",
   "pygments_lexer": "ipython3",
   "version": "3.9.19"
  }
 },
 "nbformat": 4,
 "nbformat_minor": 5
}
