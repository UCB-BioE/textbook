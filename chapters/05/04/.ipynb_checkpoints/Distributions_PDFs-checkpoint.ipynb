{
 "cells": [
  {
   "cell_type": "markdown",
   "id": "8e77a446-9a06-45c1-b5a0-2563a3616cc9",
   "metadata": {},
   "source": [
    "# Distributions and Probability Density Functions"
   ]
  }
 ],
 "metadata": {
  "kernelspec": {
   "display_name": "Python 3 (ipykernel)",
   "language": "python",
   "name": "python3"
  },
  "language_info": {
   "codemirror_mode": {
    "name": "ipython",
    "version": 3
   },
   "file_extension": ".py",
   "mimetype": "text/x-python",
   "name": "python",
   "nbconvert_exporter": "python",
   "pygments_lexer": "ipython3",
   "version": "3.9.19"
  }
 },
 "nbformat": 4,
 "nbformat_minor": 5
}
