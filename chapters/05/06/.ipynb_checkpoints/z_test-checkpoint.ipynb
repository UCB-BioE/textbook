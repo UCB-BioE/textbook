{
 "cells": [
  {
   "cell_type": "markdown",
   "id": "2479a2e3-82f3-4d84-a4f5-57f38ba88f74",
   "metadata": {},
   "source": [
    "# Hypothesis testing "
   ]
  },
  {
   "cell_type": "markdown",
   "id": "d9b7b4ea-a1e7-4e15-ab48-46ab5da7a893",
   "metadata": {},
   "source": [
    "## Z-tests\n",
    "A z-test is a statistical method used to determine if there is a significant difference between sample data and a **known population parameter**, or between two sample means when the **population variance is known or the sample size is large**. \n",
    "\n",
    "Assumptions of a Z-Test:\n",
    "- Normality: The data should be approximately normally distributed. This is usually satisfied if the sample size is large $n \\geq 30$ due to the Central Limit Theorem.\n",
    "- Known Population Variance: For a z-test, the population standard deviation $\\sigma$ is assumed to be known. If it's unknown, a t-test is typically used instead.\n",
    "- Independent Observations: The samples should be independent of each other."
   ]
  },
  {
   "cell_type": "markdown",
   "id": "7e063678-482d-48f6-af9b-897d24ec9bb0",
   "metadata": {},
   "source": [
    "## One vs Two Sided \n",
    "A one-sided (or one-tailed) test and a two-sided (or two-tailed) test are two types of hypothesis tests.  The key difference between the two lies in the nature of the alternative hypothesis and the area of interest in the distribution.\n",
    "\n",
    "### One-Sided (One-Tailed) Test\n",
    "- A one-sided test is used when we are only interested in deviations in one direction (greater than or less than the hypothesized value).\n",
    "- The alternative hypothesis specifies the direction of the effect.\n",
    "\n",
    "**Null Hypothesis $H_0$**: The parameter is equal to a specific value.\n",
    " - $ H_0: \\mu = \\mu_0 $\n",
    "   \n",
    "**Alternative Hypothesis $H_1$**: The parameter is either greater than or less than the specific value, depending on the test direction.\n",
    "- $ H_0: \\mu = \\mu_0 $\n",
    "- $ H_1: \\mu > \\mu_0 $ (Right-tailed test)\n",
    "- $ H_1: \\mu < \\mu_0 $ (Left-tailed test)\n",
    "\n",
    "For example, let's say I develop a new teaching method. I'd like to know if it improves scores. I only care if scores are higher, not lower.\n",
    "- $H_0$: The new method does not improve scores $\\mu \\leq \\mu_0$.\n",
    "- $H_1$: The new method improves scores $\\mu > \\mu_0$."
   ]
  },
  {
   "cell_type": "markdown",
   "id": "afe04673-ec2b-4635-9a5a-9ca620e328eb",
   "metadata": {},
   "source": [
    "### Two-Sided (Two-Tailed) Test\n",
    "A two-sided test is used when we are interested in detecting whether a parameter (e.g., mean, proportion) is significantly different from a hypothesized value in either direction (both greater than or less than the hypothesized value). The alternative hypothesis is concerned with deviations in **both directions** from the null hypothesis.\n",
    "\n",
    "**Null Hypothesis $H_0$**: The parameter is equal to a specific value.\n",
    "  - $ H_0: \\mu = \\mu_0 $\n",
    "    \n",
    "**Alternative Hypothesis $H_1$**: The parameter is not equal to that specific value.\n",
    "  - $ H_1: \\mu \\neq \\mu_0 $\n",
    "\n",
    "For example, I am interested in how diet affects cholesterol levels. I am interested in this regardless of whether they increase or decrease.\n",
    "  - $H_0$: The diet has no effect on cholesterol levels $\\mu = \\mu_0$.\n",
    "  - $H_1$: The diet affects cholesterol levels $\\mu \\neq \\mu_0$.\n",
    "\n"
   ]
  },
  {
   "cell_type": "markdown",
   "id": "4cd67300-6055-4c09-b555-b93a8fba678f",
   "metadata": {},
   "source": [
    "### Choosing Between the Tests\n",
    "\n",
    "| Aspect | One-Sided Test | Two-Sided Test |\n",
    "|--------|----------------|----------------|\n",
    "| **Alternative Hypothesis** | Tests for deviation in one direction $>$ or $<$ | Tests for deviation in both directions $\\neq$ |\n",
    "| **Rejection Region** | Located in one tail (either left or right) | Located in both tails |\n",
    "| **Significance Level $\\alpha$** | Entire $\\alpha$ is in one tail | $\\alpha$ is split between both tails ($\\alpha/2$ in each tail) |\n",
    "| **When to Use** | When you have a directional hypothesis | When you are testing for any difference, regardless of direction |"
   ]
  },
  {
   "cell_type": "markdown",
   "id": "6937f845-fdc3-492b-80f9-d169cad8deef",
   "metadata": {},
   "source": [
    "## Calculate the Test Statistic:\n",
    "The test statistic $ z $ is calculated using:\n",
    "\n",
    "$$\n",
    "z = \\frac{\\bar{X} - \\mu_0}{\\sigma / \\sqrt{n}}\n",
    "$$\n",
    "\n",
    "Where:\n",
    "- $ \\bar{X} $ is the sample mean.\n",
    "- $ \\mu_0 $ is the population mean under the null hypothesis.\n",
    "- $ \\sigma $ is the population standard deviation.\n",
    "- $ n $ is the sample size.\n",
    "\n",
    "## Determine the Critical Value and Significance Level\n",
    "- Choose a significance level $ \\alpha $, commonly set at 0.05 or 0.01.\n",
    "- Determine the critical value from the standard normal distribution for a one-tailed or two-tailed test.\n",
    "\n",
    "### One-Sided Test\n",
    "**$ \\alpha = 0.05 $**:\n",
    "- Right-tailed critical value: $ z_{0.05} \\approx 1.645 $\n",
    "- Left-tailed critical value: $ z_{0.05} \\approx -1.645 $\n",
    "\n",
    "**$ \\alpha = 0.01 $**:\n",
    "- Right-tailed critical value: $ z_{0.01} \\approx 2.33 $\n",
    "- Left-tailed critical value: $ z_{0.01} \\approx -2.33 $\n",
    "\n",
    "For a one-sided test with $\\alpha = 0.05$, you find the z-value such that the area in the right tail is 0.05 is $\\approx$ 1.645.\n",
    "![oneside](../../../images/onesided.png)\n",
    "\n",
    "### Two-Sided Test\n",
    "\n",
    "**$ \\alpha = 0.05 $**:\n",
    "- Critical values for a two-sided test with $ \\alpha = 0.05 $ means $ \\alpha/2 = 0.025 $ in each tail:$ z_{0.025} \\approx \\pm 1.96 $\n",
    "\n",
    "**$ \\alpha = 0.01 $**:\n",
    "- Critical values for a two-sided test with $ \\alpha = 0.01 $ means $ \\alpha/2 = 0.005 $ in each tail:$ z_{0.005} \\approx \\pm 2.58 $\n",
    "\n",
    "For a two-sided test with $\\alpha = 0.05$, you find the z-value such that the area in each tail is 0.025 is $\\approx \\pm$ 1.96\n",
    "![oneside](../../../images/twosided.png) \n",
    "\n",
    "### Summary of Critical Values for Z-Distribution\n",
    "\n",
    "| Significance Level ($\\alpha$) | One-Sided Critical Value (Right Tail) | One-Sided Critical Value (Left Tail) | Two-Sided Critical Values |\n",
    "|---------------------------------|---------------------------------------|--------------------------------------|---------------------------|\n",
    "| $ \\alpha = 0.05 $             | $ 1.645 $                           | $ -1.645 $                         | $ \\pm 1.96 $            |\n",
    "| $ \\alpha = 0.01 $             | $ 2.33 $                            | $ -2.33 $                          | $ \\pm 2.58 $            |\n",
    "\n",
    "### Draw a Conclusion\n",
    "- Compare the calculated $ z $-value to the critical value(s):\n",
    "- If the $ z $-value falls in the rejection region (beyond the critical value), reject the null hypothesis.\n",
    "- If the $ z $-value does not fall in the rejection region, fail to reject the null hypothesis.\n",
    "\n",
    "### Example: Two sided Z-Test\n",
    "Suppose you have a sample mean test score of $ \\bar{X} = 85 $, with a known population mean of $ \\mu_0 = 80 $ and a population standard deviation $ \\sigma = 10 $. The sample size $ n = 30 $. \n",
    "\n",
    "1. Hypotheses: \n",
    "   - $ H_0: \\mu = 80 $\n",
    "   - $ H_1: \\mu \\neq 80 $\n",
    "\n",
    "2. Calculate the z-Statistic:\n",
    "$$\n",
    "   z = \\frac{85 - 80}{10 / \\sqrt{30}} \\approx 2.74\n",
    "$$\n",
    "\n",
    "3. Critical Value at $ \\alpha = 0.05 $ (Two-Tailed):\n",
    "   - Critical values are $ \\pm 1.96 $.\n",
    "\n",
    "4. Decision:\n",
    "   - $ 2.74 $ is greater than $ 1.96 $, so we reject the null hypothesis.\n",
    "\n",
    "5. Conclusion:\n",
    "   - There is a statistically significant difference between the sample mean and the population mean at the 0.05 significance level."
   ]
  },
  {
   "cell_type": "markdown",
   "id": "d2e27f34-422f-4df0-a6fe-9aaa78bb8198",
   "metadata": {},
   "source": [
    "## P-value\n",
    "### Understanding the P-Value\n",
    "Instead of comparing the computed z-value to the critical value, it is also possible to directly calculate the probability of that value arising by chance if the $H_0$ is true.\n",
    "\n",
    "The p-value is the probability of obtaining a test statistic at least as extreme as the one observed in your sample data, assuming that the null hypothesis is true. It quantifies the evidence against the null hypothesis. A smaller p-value indicates stronger evidence against the null hypothesis.\n",
    "\n",
    "### Draw a Conclusion\n",
    "Compare the P-Value to the Significance Level $\\alpha$. The significance level $\\alpha$ is a threshold you set before conducting the test.\n",
    "- If $\\text{p-value} \\leq \\alpha$: There is enough evidence to reject the null hypothesis.\n",
    "- If $\\text{p-value} > \\alpha$: There is not enough evidence to reject the null hypothesis.\n",
    "\n",
    "Statistically Significant: When the p-value is less than or equal to $\\alpha$ the result is considered statistically significant, indicating that the observed effect is unlikely to have occurred by chance."
   ]
  }
 ],
 "metadata": {
  "kernelspec": {
   "display_name": "Python 3 (ipykernel)",
   "language": "python",
   "name": "python3"
  },
  "language_info": {
   "codemirror_mode": {
    "name": "ipython",
    "version": 3
   },
   "file_extension": ".py",
   "mimetype": "text/x-python",
   "name": "python",
   "nbconvert_exporter": "python",
   "pygments_lexer": "ipython3",
   "version": "3.9.19"
  }
 },
 "nbformat": 4,
 "nbformat_minor": 5
}
