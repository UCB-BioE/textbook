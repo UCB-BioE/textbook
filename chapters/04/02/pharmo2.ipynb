{
 "cells": [
  {
   "cell_type": "markdown",
   "id": "754826ae-7c74-457a-8e39-928cd8c4c724",
   "metadata": {},
   "source": [
    "## Compartment Models\n",
    "\n",
    "Pharmacokinetic models often divide the body into compartments where drugs are distributed.  \n",
    "\n",
    "```{admonition} One compartment model\n",
    "The simplest model is the **one-compartment model**, where the drug is assumed to be distributed instantaneously throughout a single, homogenous compartment (the body).\n",
    "```\n",
    "\n",
    "```{admonition} Multi-compartment model\n",
    "More complex models use **multi-compartment systems** to represent different tissues or organs, where the drug moves between compartments at different rates.\n",
    "```"
   ]
  },
  {
   "cell_type": "code",
   "execution_count": null,
   "id": "9622c6f5-e287-4619-902d-b46207c4f786",
   "metadata": {},
   "outputs": [],
   "source": []
  },
  {
   "cell_type": "code",
   "execution_count": null,
   "id": "b2e13492-487e-42f2-be70-cf4dd45c6231",
   "metadata": {},
   "outputs": [],
   "source": []
  }
 ],
 "metadata": {
  "kernelspec": {
   "display_name": "Python 3 (ipykernel)",
   "language": "python",
   "name": "python3"
  },
  "language_info": {
   "codemirror_mode": {
    "name": "ipython",
    "version": 3
   },
   "file_extension": ".py",
   "mimetype": "text/x-python",
   "name": "python",
   "nbconvert_exporter": "python",
   "pygments_lexer": "ipython3",
   "version": "3.9.19"
  }
 },
 "nbformat": 4,
 "nbformat_minor": 5
}
